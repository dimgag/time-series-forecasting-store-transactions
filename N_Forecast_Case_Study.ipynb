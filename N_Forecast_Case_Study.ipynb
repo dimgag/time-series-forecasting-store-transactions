{
 "cells": [
  {
   "cell_type": "markdown",
   "id": "25375ae2-b2f6-4365-89b8-13eafbda23a3",
   "metadata": {},
   "source": [
    "\n",
    "# <img src='https://static.ah.nl/ah-static/images/ah-ui-bridge-components/logo/logo-ah.svg'/> Albert Heijn Data Science N-Forecasting Case Study\n",
    "\n",
    "### Context\n",
    "\n",
    "The unavailability of products in our stores (due to stockouts) is a main driver for customer dissatisfaction and lost sales. Simultaneously, overstocking of our products contributes to food waste (due to spoilage), incurring high costs and causing environmental harm. Therefore, it is crucial for Albert Heijn to obtain reliable estimates on the daily number of customers in each store in the time to come. This helps us to optimize: \n",
    "\n",
    "-\treplenishment decisions (i.e., deciding how much of each product to send to each store over time), and\n",
    "-\tstaffing decisions (i.e., how many employees to schedule per store to make sure the store operations run smoothly). \n",
    " \n",
    "This assignment is about forecasting the number of transactions that take place each day in each store. We call this the “N-Forecast”. N is close to the number of customers that come to a store but not the same. While most customers visit the store at most once a day, there are exceptions where some might come multiple times, leading to multiple transactions being counted. Additionally, there could be instances where customers leave the store without making any transactions.\n",
    "\n",
    "### Assignment details\n",
    "\n",
    "Your task is to develop a <b>Python</b> solution that forecasts the number of transactions per day per store up to *50 days* ahead. For example, if you run your solution on 1 January 2023, it is expected to forecast for each store the number of transactions on 2 January 2023, 3 January 2023, …, 19 February 2023.\n",
    "\n",
    "We expect you to design your own model training and validation setup (this includes choosing an appropriate error metric for your forecasts). It is important for you to be able to convince us (your stakeholders) that your model is carefully designed and can generate good forecasts going forward. \n",
    "\n",
    "### Deliverables\n",
    "\n",
    "- A python <b>Jupyter Notebook</b> where we can see the results of your work, and follow how you approached the problem. Not all your code has to be in the notebook, you can also use scripts or a package to build your solution, but we want to be able to see the results easily. Please submit <b>all of your code</b>.\n",
    "- A short exploratory data analysis highlighting important characteristics of the data or problems you find in the data\n",
    "- Model evaluation with an analysis of the performance\n",
    "- Some comments on possible future improvements you would make if you worked further on this project \n",
    "\n",
    "### Submission Deadline\n",
    "The solution should be submitted to the recruiter who set up your interview by <b>10:00 AM (Amsterdam Local Time)</b> the day <b>before</b> your scheduled interview.\n",
    "\n",
    "### Data\n",
    "\n",
    "The dataset has been derived from Albert Heijn data but manipulated and obfuscated in a way as to preserve commercially sensitive information. It is provided as a single parquet file: `n_forecast.parquet`\n",
    "\n",
    "You are provided with an historical dataset containing the following fields:\n",
    "\n",
    "- `sales_date`: The date on which the transactions occurred\n",
    "- `store_hashed`: a hashed version of the store number\n",
    "- `n_transactions`: The number of transactions that took place in that store on that day - the target of the prediction in the assignment\n",
    "- `store_format`: An categorical feature indicating that the store has a particular type (e.g. To Go or XL)\n",
    "- `zipcode_region`: The first two digits of the zipcode where the store is located\n",
    "- `region`: The holiday region in which the store falls\n",
    "- A number of binary features indicating whether a particular date falls on a national holiday or a regional school vacation period.\n",
    "- `datetime_store_open`: The time at which the store opened on the sales_date\n",
    "- `datetime_store_closed`: The time at which the store closed on the sales_date\n",
    "\n",
    "You may add other public datasets if you wish to improve the forecast (e.g. weather related data) – this is however not required. \n",
    "\n",
    "## Some hints \n",
    "- Manage your time. Start simple, ensure you have all the required components and that they are working, then if you have time spend time improving the model.\n",
    "- Be prepared to explain the assumptions and modelling decisions you have made and to reason about how your model is performing in the context of the original business problem"
   ]
  },
  {
   "cell_type": "code",
   "execution_count": 1,
   "id": "cb9fbc3c-31b1-483a-84c3-08d4eb8f0a11",
   "metadata": {},
   "outputs": [],
   "source": [
    "import pandas as pd\n",
    "df = pd.read_parquet('n_forecast.parquet', engine='pyarrow', dtype_backend='numpy_nullable')"
   ]
  },
  {
   "cell_type": "code",
   "execution_count": null,
   "id": "c7e6b7ad",
   "metadata": {},
   "outputs": [],
   "source": []
  }
 ],
 "metadata": {
  "kernelspec": {
   "display_name": "Python 3 (ipykernel)",
   "language": "python",
   "name": "python3"
  },
  "language_info": {
   "codemirror_mode": {
    "name": "ipython",
    "version": 3
   },
   "file_extension": ".py",
   "mimetype": "text/x-python",
   "name": "python",
   "nbconvert_exporter": "python",
   "pygments_lexer": "ipython3",
   "version": "3.9.17"
  }
 },
 "nbformat": 4,
 "nbformat_minor": 5
}
