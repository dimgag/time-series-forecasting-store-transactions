{
 "cells": [
  {
   "cell_type": "code",
   "execution_count": 1,
   "metadata": {},
   "outputs": [],
   "source": [
    "import numpy as np\n",
    "import pandas as pd\n",
    "import matplotlib.pyplot as plt\n",
    "import seaborn as sns\n",
    "import warnings\n",
    "\n",
    "# My modules\n",
    "from utils import *\n",
    "\n",
    "# Notebook Settings\n",
    "sns.set_style('whitegrid')\n",
    "pd.set_option('display.max_rows', None)\n",
    "\n",
    "warnings.filterwarnings(\"ignore\") "
   ]
  },
  {
   "cell_type": "code",
   "execution_count": 2,
   "metadata": {},
   "outputs": [],
   "source": [
    "data = pd.read_parquet('data/n_forecast_preprocessed.parquet', engine='pyarrow', dtype_backend='numpy_nullable')"
   ]
  },
  {
   "cell_type": "code",
   "execution_count": 3,
   "metadata": {},
   "outputs": [],
   "source": [
    "data.set_index('sales_date', inplace=True)\n",
    "data.sort_index(inplace=True)\n",
    "# convert to float the n_transactions column\n",
    "data['n_transactions'] = data['n_transactions'].astype(float)"
   ]
  },
  {
   "cell_type": "code",
   "execution_count": 4,
   "metadata": {},
   "outputs": [
    {
     "data": {
      "text/plain": [
       "595"
      ]
     },
     "execution_count": 4,
     "metadata": {},
     "output_type": "execute_result"
    }
   ],
   "source": [
    "data['store_hashed'].nunique()"
   ]
  },
  {
   "cell_type": "markdown",
   "metadata": {},
   "source": [
    "# Forecasting for all stores\n",
    "\n",
    "1. First of all we need to make all stores data stationary to be able to use ARIMA model. We will use differencing to make data stationary.\n",
    "2. Then we will use auto_arima function to find the best parameters for ARIMA model.\n",
    "3. Finally we will use ARIMA model to forecast number of transactions for each store.\n",
    "\n"
   ]
  },
  {
   "cell_type": "markdown",
   "metadata": {},
   "source": [
    "# Check stationarity for each store"
   ]
  },
  {
   "cell_type": "code",
   "execution_count": 5,
   "metadata": {},
   "outputs": [
    {
     "name": "stdout",
     "output_type": "stream",
     "text": [
      "Stationary stores: 407\n",
      "Non stationary stores: 188\n"
     ]
    }
   ],
   "source": [
    "stationary_stores, non_stationary_stores = test_stores_stationarity(data, plot=False, results=False)"
   ]
  },
  {
   "cell_type": "code",
   "execution_count": 6,
   "metadata": {},
   "outputs": [
    {
     "name": "stdout",
     "output_type": "stream",
     "text": [
      "Stationary stores: 188\n",
      "Non stationary stores: 0\n"
     ]
    }
   ],
   "source": [
    "# stationary_stores will have d=0 for arima model\n",
    "# stationary_stores_1 will have d=1 for arima model\n",
    "# stationary_store_2 will have d=2 for arima model\n",
    "stationary_stores_1, non_stationary_stores_1 = differencing(data, non_stationary_stores)"
   ]
  },
  {
   "cell_type": "code",
   "execution_count": 7,
   "metadata": {},
   "outputs": [
    {
     "name": "stdout",
     "output_type": "stream",
     "text": [
      "Stationary stores: 595\n",
      "Non stationary stores: 0\n"
     ]
    }
   ],
   "source": [
    "# Check all stores stationarity after differencing\n",
    "data = data.dropna()\n",
    "\n",
    "stationary_stores_2, non_stationary_stores_2 = test_stores_stationarity(data, plot=False, results=False)"
   ]
  },
  {
   "cell_type": "markdown",
   "metadata": {},
   "source": [
    "# Hyperparameters tuning for each store"
   ]
  },
  {
   "cell_type": "code",
   "execution_count": 8,
   "metadata": {},
   "outputs": [],
   "source": [
    "# Load again the dataset\n",
    "data = pd.read_parquet('data/n_forecast_preprocessed.parquet', engine='pyarrow', dtype_backend='numpy_nullable')\n",
    "data.set_index('sales_date', inplace=True)\n",
    "data.sort_index(inplace=True)\n",
    "# convert to float the n_transactions column\n",
    "data['n_transactions'] = data['n_transactions'].astype(float)"
   ]
  },
  {
   "cell_type": "code",
   "execution_count": 9,
   "metadata": {},
   "outputs": [],
   "source": [
    "# stationary_stores   (d=0)\n",
    "# stationary_stores_1 (d=1)"
   ]
  },
  {
   "cell_type": "code",
   "execution_count": 10,
   "metadata": {},
   "outputs": [],
   "source": [
    "# Create empty dataframe with pdq values\n",
    "store_params = pd.DataFrame(columns=['store', 'pdq'])"
   ]
  },
  {
   "cell_type": "code",
   "execution_count": 11,
   "metadata": {},
   "outputs": [
    {
     "name": "stdout",
     "output_type": "stream",
     "text": [
      "Store: a58149d355f02887dfbe55ebb2b64ba3\n",
      "Best ARIMA parameters: (8, 0, 7) with AIC: 19118.62876072526\n",
      "(8, 0, 7)\n",
      "Store: bb57db42f77807a9c5823bd8c2d9aaef\n",
      "Best ARIMA parameters: (9, 0, 8) with AIC: 21033.091028127637\n",
      "(9, 0, 8)\n",
      "Store: 28e209b61a52482a0ae1cb9f5959c792\n",
      "Best ARIMA parameters: (9, 0, 9) with AIC: 23357.84907125705\n",
      "(9, 0, 9)\n",
      "Store: 1cecc7a77928ca8133fa24680a88d2f9\n",
      "Best ARIMA parameters: (9, 0, 9) with AIC: 21293.733368880024\n",
      "(9, 0, 9)\n",
      "Store: a19883fca95d0e5ec7ee6c94c6c32028\n",
      "Best ARIMA parameters: (9, 0, 9) with AIC: 20301.91453524185\n",
      "(9, 0, 9)\n",
      "Store: 23ef5cf238a3b88085d95adf94c24a25\n",
      "Best ARIMA parameters: (8, 0, 9) with AIC: 19099.110533237726\n",
      "(8, 0, 9)\n",
      "Store: 5e5dd00d770ef3e9154a4257edcb80b8\n",
      "Best ARIMA parameters: (9, 0, 8) with AIC: 18110.01323200047\n",
      "(9, 0, 8)\n",
      "Store: ae95296e27d7f695f891cd26b4f37078\n",
      "Best ARIMA parameters: (9, 0, 7) with AIC: 17911.412951516744\n",
      "(9, 0, 7)\n",
      "Store: e21bd8ab999859f3642d2227e682e66f\n",
      "Best ARIMA parameters: (8, 0, 9) with AIC: 16833.398627520415\n",
      "(8, 0, 9)\n",
      "Store: 3eefceb8087e964f89c2d59e8a249915\n",
      "Best ARIMA parameters: (9, 0, 9) with AIC: 20469.40728210125\n",
      "(9, 0, 9)\n",
      "Store: fe51510c80bfd6e5d78a164cd5b1f688\n",
      "Best ARIMA parameters: (9, 0, 9) with AIC: 23250.85162261723\n",
      "(9, 0, 9)\n",
      "Store: f016e59c7ad8b1d72903bb1aa5720d53\n",
      "Best ARIMA parameters: (7, 0, 8) with AIC: 25141.49269159488\n",
      "(7, 0, 8)\n",
      "Store: 99f42c473afe0eb4bd047ae133b851fc\n",
      "Best ARIMA parameters: (7, 0, 8) with AIC: 23623.532568229937\n",
      "(7, 0, 8)\n",
      "Store: 503e7dbbd6217b9a591f3322f39b5a6c\n",
      "Best ARIMA parameters: (8, 0, 9) with AIC: 21435.69134945095\n",
      "(8, 0, 9)\n",
      "Store: 3557a86db669836730d946052d988e46\n",
      "Best ARIMA parameters: (8, 0, 7) with AIC: 20780.801730692394\n",
      "(8, 0, 7)\n",
      "Store: e9fd7c2c6623306db59b6aef5c0d5cac\n",
      "Error: LU decomposition error. with parameters (4, 0, 2)\n",
      "Best ARIMA parameters: (9, 0, 8) with AIC: 23126.844263395047\n",
      "(9, 0, 8)\n",
      "Store: 8a3363abe792db2d8761d6403605aeb7\n",
      "Best ARIMA parameters: (9, 0, 9) with AIC: 22629.3442769324\n",
      "(9, 0, 9)\n",
      "Store: 9246444d94f081e3549803b928260f56\n",
      "Best ARIMA parameters: (7, 0, 8) with AIC: 17685.479598471145\n",
      "(7, 0, 8)\n",
      "Store: 132d6c1408f2492456848667346b54b6\n",
      "Best ARIMA parameters: (7, 0, 9) with AIC: 20433.223036224\n",
      "(7, 0, 9)\n",
      "Store: 309fee4e541e51de2e41f21bebb342aa\n",
      "Best ARIMA parameters: (9, 0, 9) with AIC: 22009.150605405935\n",
      "(9, 0, 9)\n",
      "Store: e092aed5316b555a770029849e06a7de\n",
      "Best ARIMA parameters: (9, 0, 9) with AIC: 20449.44747816953\n",
      "(9, 0, 9)\n",
      "Store: b7f520a55897b35e6eb462bbf80915c6\n",
      "Best ARIMA parameters: (9, 0, 9) with AIC: 20388.88563036293\n",
      "(9, 0, 9)\n",
      "Store: df0aab058ce179e4f7ab135ed4e641a9\n",
      "Best ARIMA parameters: (7, 0, 8) with AIC: 25064.666143989016\n",
      "(7, 0, 8)\n",
      "Store: 39144da5a6180c47885443c83547ec14\n",
      "Best ARIMA parameters: (9, 0, 8) with AIC: 22368.455928030642\n",
      "(9, 0, 8)\n",
      "Store: 995e1fda4a2b5f55ef0df50868bf2a8f\n"
     ]
    },
    {
     "ename": "KeyboardInterrupt",
     "evalue": "",
     "output_type": "error",
     "traceback": [
      "\u001b[0;31m---------------------------------------------------------------------------\u001b[0m",
      "\u001b[0;31mKeyboardInterrupt\u001b[0m                         Traceback (most recent call last)",
      "\u001b[1;32m/Users/dim__gag/git/time-series-forecasting-store-transactions/all_stores_notebook.ipynb Cell 14\u001b[0m line \u001b[0;36m7\n\u001b[1;32m      <a href='vscode-notebook-cell:/Users/dim__gag/git/time-series-forecasting-store-transactions/all_stores_notebook.ipynb#X45sZmlsZQ%3D%3D?line=2'>3</a>\u001b[0m \u001b[39mprint\u001b[39m(\u001b[39mf\u001b[39m\u001b[39m\"\u001b[39m\u001b[39mStore: \u001b[39m\u001b[39m{\u001b[39;00mstore\u001b[39m}\u001b[39;00m\u001b[39m\"\u001b[39m)\n\u001b[1;32m      <a href='vscode-notebook-cell:/Users/dim__gag/git/time-series-forecasting-store-transactions/all_stores_notebook.ipynb#X45sZmlsZQ%3D%3D?line=4'>5</a>\u001b[0m data_store \u001b[39m=\u001b[39m data[data[\u001b[39m'\u001b[39m\u001b[39mstore_hashed\u001b[39m\u001b[39m'\u001b[39m] \u001b[39m==\u001b[39m store]\n\u001b[0;32m----> <a href='vscode-notebook-cell:/Users/dim__gag/git/time-series-forecasting-store-transactions/all_stores_notebook.ipynb#X45sZmlsZQ%3D%3D?line=6'>7</a>\u001b[0m best_params \u001b[39m=\u001b[39m arima_hyperparameters(data_store[\u001b[39m'\u001b[39;49m\u001b[39mn_transactions\u001b[39;49m\u001b[39m'\u001b[39;49m], diff\u001b[39m=\u001b[39;49m\u001b[39m0\u001b[39;49m)\n\u001b[1;32m      <a href='vscode-notebook-cell:/Users/dim__gag/git/time-series-forecasting-store-transactions/all_stores_notebook.ipynb#X45sZmlsZQ%3D%3D?line=7'>8</a>\u001b[0m \u001b[39mprint\u001b[39m(best_params)\n\u001b[1;32m      <a href='vscode-notebook-cell:/Users/dim__gag/git/time-series-forecasting-store-transactions/all_stores_notebook.ipynb#X45sZmlsZQ%3D%3D?line=8'>9</a>\u001b[0m store_params \u001b[39m=\u001b[39m pd\u001b[39m.\u001b[39mconcat([store_params, pd\u001b[39m.\u001b[39mDataFrame({\u001b[39m'\u001b[39m\u001b[39mstore\u001b[39m\u001b[39m'\u001b[39m: [store], \u001b[39m'\u001b[39m\u001b[39mpdq\u001b[39m\u001b[39m'\u001b[39m: [best_params]})], ignore_index\u001b[39m=\u001b[39m\u001b[39mTrue\u001b[39;00m)\n",
      "File \u001b[0;32m~/git/time-series-forecasting-store-transactions/utils.py:178\u001b[0m, in \u001b[0;36marima_hyperparameters\u001b[0;34m(data, diff)\u001b[0m\n\u001b[1;32m    176\u001b[0m \u001b[39mtry\u001b[39;00m:\n\u001b[1;32m    177\u001b[0m     model_arima \u001b[39m=\u001b[39m ARIMA(data, order\u001b[39m=\u001b[39mparam)\n\u001b[0;32m--> 178\u001b[0m     model_arima_fit \u001b[39m=\u001b[39m model_arima\u001b[39m.\u001b[39;49mfit()\n\u001b[1;32m    179\u001b[0m     \u001b[39mif\u001b[39;00m model_arima_fit\u001b[39m.\u001b[39maic \u001b[39m<\u001b[39m best_aic:\n\u001b[1;32m    180\u001b[0m         best_aic \u001b[39m=\u001b[39m model_arima_fit\u001b[39m.\u001b[39maic\n",
      "File \u001b[0;32m~/opt/anaconda3/lib/python3.9/site-packages/statsmodels/tsa/arima/model.py:395\u001b[0m, in \u001b[0;36mARIMA.fit\u001b[0;34m(self, start_params, transformed, includes_fixed, method, method_kwargs, gls, gls_kwargs, cov_type, cov_kwds, return_params, low_memory)\u001b[0m\n\u001b[1;32m    392\u001b[0m \u001b[39melse\u001b[39;00m:\n\u001b[1;32m    393\u001b[0m     method_kwargs\u001b[39m.\u001b[39msetdefault(\u001b[39m'\u001b[39m\u001b[39mdisp\u001b[39m\u001b[39m'\u001b[39m, \u001b[39m0\u001b[39m)\n\u001b[0;32m--> 395\u001b[0m     res \u001b[39m=\u001b[39m \u001b[39msuper\u001b[39;49m()\u001b[39m.\u001b[39;49mfit(\n\u001b[1;32m    396\u001b[0m         return_params\u001b[39m=\u001b[39;49mreturn_params, low_memory\u001b[39m=\u001b[39;49mlow_memory,\n\u001b[1;32m    397\u001b[0m         cov_type\u001b[39m=\u001b[39;49mcov_type, cov_kwds\u001b[39m=\u001b[39;49mcov_kwds, \u001b[39m*\u001b[39;49m\u001b[39m*\u001b[39;49mmethod_kwargs)\n\u001b[1;32m    398\u001b[0m     \u001b[39mif\u001b[39;00m \u001b[39mnot\u001b[39;00m return_params:\n\u001b[1;32m    399\u001b[0m         res\u001b[39m.\u001b[39mfit_details \u001b[39m=\u001b[39m res\u001b[39m.\u001b[39mmlefit\n",
      "File \u001b[0;32m~/opt/anaconda3/lib/python3.9/site-packages/statsmodels/tsa/statespace/mlemodel.py:704\u001b[0m, in \u001b[0;36mMLEModel.fit\u001b[0;34m(self, start_params, transformed, includes_fixed, cov_type, cov_kwds, method, maxiter, full_output, disp, callback, return_params, optim_score, optim_complex_step, optim_hessian, flags, low_memory, **kwargs)\u001b[0m\n\u001b[1;32m    702\u001b[0m         flags[\u001b[39m'\u001b[39m\u001b[39mhessian_method\u001b[39m\u001b[39m'\u001b[39m] \u001b[39m=\u001b[39m optim_hessian\n\u001b[1;32m    703\u001b[0m     fargs \u001b[39m=\u001b[39m (flags,)\n\u001b[0;32m--> 704\u001b[0m     mlefit \u001b[39m=\u001b[39m \u001b[39msuper\u001b[39;49m(MLEModel, \u001b[39mself\u001b[39;49m)\u001b[39m.\u001b[39;49mfit(start_params, method\u001b[39m=\u001b[39;49mmethod,\n\u001b[1;32m    705\u001b[0m                                        fargs\u001b[39m=\u001b[39;49mfargs,\n\u001b[1;32m    706\u001b[0m                                        maxiter\u001b[39m=\u001b[39;49mmaxiter,\n\u001b[1;32m    707\u001b[0m                                        full_output\u001b[39m=\u001b[39;49mfull_output,\n\u001b[1;32m    708\u001b[0m                                        disp\u001b[39m=\u001b[39;49mdisp, callback\u001b[39m=\u001b[39;49mcallback,\n\u001b[1;32m    709\u001b[0m                                        skip_hessian\u001b[39m=\u001b[39;49m\u001b[39mTrue\u001b[39;49;00m, \u001b[39m*\u001b[39;49m\u001b[39m*\u001b[39;49mkwargs)\n\u001b[1;32m    711\u001b[0m \u001b[39m# Just return the fitted parameters if requested\u001b[39;00m\n\u001b[1;32m    712\u001b[0m \u001b[39mif\u001b[39;00m return_params:\n",
      "File \u001b[0;32m~/opt/anaconda3/lib/python3.9/site-packages/statsmodels/base/model.py:566\u001b[0m, in \u001b[0;36mLikelihoodModel.fit\u001b[0;34m(self, start_params, method, maxiter, full_output, disp, fargs, callback, retall, skip_hessian, **kwargs)\u001b[0m\n\u001b[1;32m    563\u001b[0m     \u001b[39mdel\u001b[39;00m kwargs[\u001b[39m\"\u001b[39m\u001b[39muse_t\u001b[39m\u001b[39m\"\u001b[39m]\n\u001b[1;32m    565\u001b[0m optimizer \u001b[39m=\u001b[39m Optimizer()\n\u001b[0;32m--> 566\u001b[0m xopt, retvals, optim_settings \u001b[39m=\u001b[39m optimizer\u001b[39m.\u001b[39;49m_fit(f, score, start_params,\n\u001b[1;32m    567\u001b[0m                                                fargs, kwargs,\n\u001b[1;32m    568\u001b[0m                                                hessian\u001b[39m=\u001b[39;49mhess,\n\u001b[1;32m    569\u001b[0m                                                method\u001b[39m=\u001b[39;49mmethod,\n\u001b[1;32m    570\u001b[0m                                                disp\u001b[39m=\u001b[39;49mdisp,\n\u001b[1;32m    571\u001b[0m                                                maxiter\u001b[39m=\u001b[39;49mmaxiter,\n\u001b[1;32m    572\u001b[0m                                                callback\u001b[39m=\u001b[39;49mcallback,\n\u001b[1;32m    573\u001b[0m                                                retall\u001b[39m=\u001b[39;49mretall,\n\u001b[1;32m    574\u001b[0m                                                full_output\u001b[39m=\u001b[39;49mfull_output)\n\u001b[1;32m    575\u001b[0m \u001b[39m# Restore cov_type, cov_kwds and use_t\u001b[39;00m\n\u001b[1;32m    576\u001b[0m optim_settings\u001b[39m.\u001b[39mupdate(kwds)\n",
      "File \u001b[0;32m~/opt/anaconda3/lib/python3.9/site-packages/statsmodels/base/optimizer.py:242\u001b[0m, in \u001b[0;36mOptimizer._fit\u001b[0;34m(self, objective, gradient, start_params, fargs, kwargs, hessian, method, maxiter, full_output, disp, callback, retall)\u001b[0m\n\u001b[1;32m    239\u001b[0m     fit_funcs\u001b[39m.\u001b[39mupdate(extra_fit_funcs)\n\u001b[1;32m    241\u001b[0m func \u001b[39m=\u001b[39m fit_funcs[method]\n\u001b[0;32m--> 242\u001b[0m xopt, retvals \u001b[39m=\u001b[39m func(objective, gradient, start_params, fargs, kwargs,\n\u001b[1;32m    243\u001b[0m                      disp\u001b[39m=\u001b[39;49mdisp, maxiter\u001b[39m=\u001b[39;49mmaxiter, callback\u001b[39m=\u001b[39;49mcallback,\n\u001b[1;32m    244\u001b[0m                      retall\u001b[39m=\u001b[39;49mretall, full_output\u001b[39m=\u001b[39;49mfull_output,\n\u001b[1;32m    245\u001b[0m                      hess\u001b[39m=\u001b[39;49mhessian)\n\u001b[1;32m    247\u001b[0m optim_settings \u001b[39m=\u001b[39m {\u001b[39m'\u001b[39m\u001b[39moptimizer\u001b[39m\u001b[39m'\u001b[39m: method, \u001b[39m'\u001b[39m\u001b[39mstart_params\u001b[39m\u001b[39m'\u001b[39m: start_params,\n\u001b[1;32m    248\u001b[0m                   \u001b[39m'\u001b[39m\u001b[39mmaxiter\u001b[39m\u001b[39m'\u001b[39m: maxiter, \u001b[39m'\u001b[39m\u001b[39mfull_output\u001b[39m\u001b[39m'\u001b[39m: full_output,\n\u001b[1;32m    249\u001b[0m                   \u001b[39m'\u001b[39m\u001b[39mdisp\u001b[39m\u001b[39m'\u001b[39m: disp, \u001b[39m'\u001b[39m\u001b[39mfargs\u001b[39m\u001b[39m'\u001b[39m: fargs, \u001b[39m'\u001b[39m\u001b[39mcallback\u001b[39m\u001b[39m'\u001b[39m: callback,\n\u001b[1;32m    250\u001b[0m                   \u001b[39m'\u001b[39m\u001b[39mretall\u001b[39m\u001b[39m'\u001b[39m: retall, \u001b[39m\"\u001b[39m\u001b[39mextra_fit_funcs\u001b[39m\u001b[39m\"\u001b[39m: extra_fit_funcs}\n\u001b[1;32m    251\u001b[0m optim_settings\u001b[39m.\u001b[39mupdate(kwargs)\n",
      "File \u001b[0;32m~/opt/anaconda3/lib/python3.9/site-packages/statsmodels/base/optimizer.py:659\u001b[0m, in \u001b[0;36m_fit_lbfgs\u001b[0;34m(f, score, start_params, fargs, kwargs, disp, maxiter, callback, retall, full_output, hess)\u001b[0m\n\u001b[1;32m    656\u001b[0m \u001b[39melif\u001b[39;00m approx_grad:\n\u001b[1;32m    657\u001b[0m     func \u001b[39m=\u001b[39m f\n\u001b[0;32m--> 659\u001b[0m retvals \u001b[39m=\u001b[39m optimize\u001b[39m.\u001b[39;49mfmin_l_bfgs_b(func, start_params, maxiter\u001b[39m=\u001b[39;49mmaxiter,\n\u001b[1;32m    660\u001b[0m                                  callback\u001b[39m=\u001b[39;49mcallback, args\u001b[39m=\u001b[39;49mfargs,\n\u001b[1;32m    661\u001b[0m                                  bounds\u001b[39m=\u001b[39;49mbounds, disp\u001b[39m=\u001b[39;49mdisp,\n\u001b[1;32m    662\u001b[0m                                  \u001b[39m*\u001b[39;49m\u001b[39m*\u001b[39;49mextra_kwargs)\n\u001b[1;32m    664\u001b[0m \u001b[39mif\u001b[39;00m full_output:\n\u001b[1;32m    665\u001b[0m     xopt, fopt, d \u001b[39m=\u001b[39m retvals\n",
      "File \u001b[0;32m~/opt/anaconda3/lib/python3.9/site-packages/scipy/optimize/_lbfgsb_py.py:199\u001b[0m, in \u001b[0;36mfmin_l_bfgs_b\u001b[0;34m(func, x0, fprime, args, approx_grad, bounds, m, factr, pgtol, epsilon, iprint, maxfun, maxiter, disp, callback, maxls)\u001b[0m\n\u001b[1;32m    187\u001b[0m callback \u001b[39m=\u001b[39m _wrap_callback(callback)\n\u001b[1;32m    188\u001b[0m opts \u001b[39m=\u001b[39m {\u001b[39m'\u001b[39m\u001b[39mdisp\u001b[39m\u001b[39m'\u001b[39m: disp,\n\u001b[1;32m    189\u001b[0m         \u001b[39m'\u001b[39m\u001b[39miprint\u001b[39m\u001b[39m'\u001b[39m: iprint,\n\u001b[1;32m    190\u001b[0m         \u001b[39m'\u001b[39m\u001b[39mmaxcor\u001b[39m\u001b[39m'\u001b[39m: m,\n\u001b[0;32m   (...)\u001b[0m\n\u001b[1;32m    196\u001b[0m         \u001b[39m'\u001b[39m\u001b[39mcallback\u001b[39m\u001b[39m'\u001b[39m: callback,\n\u001b[1;32m    197\u001b[0m         \u001b[39m'\u001b[39m\u001b[39mmaxls\u001b[39m\u001b[39m'\u001b[39m: maxls}\n\u001b[0;32m--> 199\u001b[0m res \u001b[39m=\u001b[39m _minimize_lbfgsb(fun, x0, args\u001b[39m=\u001b[39;49margs, jac\u001b[39m=\u001b[39;49mjac, bounds\u001b[39m=\u001b[39;49mbounds,\n\u001b[1;32m    200\u001b[0m                        \u001b[39m*\u001b[39;49m\u001b[39m*\u001b[39;49mopts)\n\u001b[1;32m    201\u001b[0m d \u001b[39m=\u001b[39m {\u001b[39m'\u001b[39m\u001b[39mgrad\u001b[39m\u001b[39m'\u001b[39m: res[\u001b[39m'\u001b[39m\u001b[39mjac\u001b[39m\u001b[39m'\u001b[39m],\n\u001b[1;32m    202\u001b[0m      \u001b[39m'\u001b[39m\u001b[39mtask\u001b[39m\u001b[39m'\u001b[39m: res[\u001b[39m'\u001b[39m\u001b[39mmessage\u001b[39m\u001b[39m'\u001b[39m],\n\u001b[1;32m    203\u001b[0m      \u001b[39m'\u001b[39m\u001b[39mfuncalls\u001b[39m\u001b[39m'\u001b[39m: res[\u001b[39m'\u001b[39m\u001b[39mnfev\u001b[39m\u001b[39m'\u001b[39m],\n\u001b[1;32m    204\u001b[0m      \u001b[39m'\u001b[39m\u001b[39mnit\u001b[39m\u001b[39m'\u001b[39m: res[\u001b[39m'\u001b[39m\u001b[39mnit\u001b[39m\u001b[39m'\u001b[39m],\n\u001b[1;32m    205\u001b[0m      \u001b[39m'\u001b[39m\u001b[39mwarnflag\u001b[39m\u001b[39m'\u001b[39m: res[\u001b[39m'\u001b[39m\u001b[39mstatus\u001b[39m\u001b[39m'\u001b[39m]}\n\u001b[1;32m    206\u001b[0m f \u001b[39m=\u001b[39m res[\u001b[39m'\u001b[39m\u001b[39mfun\u001b[39m\u001b[39m'\u001b[39m]\n",
      "File \u001b[0;32m~/opt/anaconda3/lib/python3.9/site-packages/scipy/optimize/_lbfgsb_py.py:365\u001b[0m, in \u001b[0;36m_minimize_lbfgsb\u001b[0;34m(fun, x0, args, jac, bounds, disp, maxcor, ftol, gtol, eps, maxfun, maxiter, iprint, callback, maxls, finite_diff_rel_step, **unknown_options)\u001b[0m\n\u001b[1;32m    359\u001b[0m task_str \u001b[39m=\u001b[39m task\u001b[39m.\u001b[39mtobytes()\n\u001b[1;32m    360\u001b[0m \u001b[39mif\u001b[39;00m task_str\u001b[39m.\u001b[39mstartswith(\u001b[39mb\u001b[39m\u001b[39m'\u001b[39m\u001b[39mFG\u001b[39m\u001b[39m'\u001b[39m):\n\u001b[1;32m    361\u001b[0m     \u001b[39m# The minimization routine wants f and g at the current x.\u001b[39;00m\n\u001b[1;32m    362\u001b[0m     \u001b[39m# Note that interruptions due to maxfun are postponed\u001b[39;00m\n\u001b[1;32m    363\u001b[0m     \u001b[39m# until the completion of the current minimization iteration.\u001b[39;00m\n\u001b[1;32m    364\u001b[0m     \u001b[39m# Overwrite f and g:\u001b[39;00m\n\u001b[0;32m--> 365\u001b[0m     f, g \u001b[39m=\u001b[39m func_and_grad(x)\n\u001b[1;32m    366\u001b[0m \u001b[39melif\u001b[39;00m task_str\u001b[39m.\u001b[39mstartswith(\u001b[39mb\u001b[39m\u001b[39m'\u001b[39m\u001b[39mNEW_X\u001b[39m\u001b[39m'\u001b[39m):\n\u001b[1;32m    367\u001b[0m     \u001b[39m# new iteration\u001b[39;00m\n\u001b[1;32m    368\u001b[0m     n_iterations \u001b[39m+\u001b[39m\u001b[39m=\u001b[39m \u001b[39m1\u001b[39m\n",
      "File \u001b[0;32m~/opt/anaconda3/lib/python3.9/site-packages/scipy/optimize/_differentiable_functions.py:286\u001b[0m, in \u001b[0;36mScalarFunction.fun_and_grad\u001b[0;34m(self, x)\u001b[0m\n\u001b[1;32m    284\u001b[0m     \u001b[39mself\u001b[39m\u001b[39m.\u001b[39m_update_x_impl(x)\n\u001b[1;32m    285\u001b[0m \u001b[39mself\u001b[39m\u001b[39m.\u001b[39m_update_fun()\n\u001b[0;32m--> 286\u001b[0m \u001b[39mself\u001b[39;49m\u001b[39m.\u001b[39;49m_update_grad()\n\u001b[1;32m    287\u001b[0m \u001b[39mreturn\u001b[39;00m \u001b[39mself\u001b[39m\u001b[39m.\u001b[39mf, \u001b[39mself\u001b[39m\u001b[39m.\u001b[39mg\n",
      "File \u001b[0;32m~/opt/anaconda3/lib/python3.9/site-packages/scipy/optimize/_differentiable_functions.py:256\u001b[0m, in \u001b[0;36mScalarFunction._update_grad\u001b[0;34m(self)\u001b[0m\n\u001b[1;32m    254\u001b[0m \u001b[39mdef\u001b[39;00m \u001b[39m_update_grad\u001b[39m(\u001b[39mself\u001b[39m):\n\u001b[1;32m    255\u001b[0m     \u001b[39mif\u001b[39;00m \u001b[39mnot\u001b[39;00m \u001b[39mself\u001b[39m\u001b[39m.\u001b[39mg_updated:\n\u001b[0;32m--> 256\u001b[0m         \u001b[39mself\u001b[39;49m\u001b[39m.\u001b[39;49m_update_grad_impl()\n\u001b[1;32m    257\u001b[0m         \u001b[39mself\u001b[39m\u001b[39m.\u001b[39mg_updated \u001b[39m=\u001b[39m \u001b[39mTrue\u001b[39;00m\n",
      "File \u001b[0;32m~/opt/anaconda3/lib/python3.9/site-packages/scipy/optimize/_differentiable_functions.py:173\u001b[0m, in \u001b[0;36mScalarFunction.__init__.<locals>.update_grad\u001b[0;34m()\u001b[0m\n\u001b[1;32m    171\u001b[0m \u001b[39mself\u001b[39m\u001b[39m.\u001b[39m_update_fun()\n\u001b[1;32m    172\u001b[0m \u001b[39mself\u001b[39m\u001b[39m.\u001b[39mngev \u001b[39m+\u001b[39m\u001b[39m=\u001b[39m \u001b[39m1\u001b[39m\n\u001b[0;32m--> 173\u001b[0m \u001b[39mself\u001b[39m\u001b[39m.\u001b[39mg \u001b[39m=\u001b[39m approx_derivative(fun_wrapped, \u001b[39mself\u001b[39;49m\u001b[39m.\u001b[39;49mx, f0\u001b[39m=\u001b[39;49m\u001b[39mself\u001b[39;49m\u001b[39m.\u001b[39;49mf,\n\u001b[1;32m    174\u001b[0m                            \u001b[39m*\u001b[39;49m\u001b[39m*\u001b[39;49mfinite_diff_options)\n",
      "File \u001b[0;32m~/opt/anaconda3/lib/python3.9/site-packages/scipy/optimize/_numdiff.py:505\u001b[0m, in \u001b[0;36mapprox_derivative\u001b[0;34m(fun, x0, method, rel_step, abs_step, f0, bounds, sparsity, as_linear_operator, args, kwargs)\u001b[0m\n\u001b[1;32m    502\u001b[0m     use_one_sided \u001b[39m=\u001b[39m \u001b[39mFalse\u001b[39;00m\n\u001b[1;32m    504\u001b[0m \u001b[39mif\u001b[39;00m sparsity \u001b[39mis\u001b[39;00m \u001b[39mNone\u001b[39;00m:\n\u001b[0;32m--> 505\u001b[0m     \u001b[39mreturn\u001b[39;00m _dense_difference(fun_wrapped, x0, f0, h,\n\u001b[1;32m    506\u001b[0m                              use_one_sided, method)\n\u001b[1;32m    507\u001b[0m \u001b[39melse\u001b[39;00m:\n\u001b[1;32m    508\u001b[0m     \u001b[39mif\u001b[39;00m \u001b[39mnot\u001b[39;00m issparse(sparsity) \u001b[39mand\u001b[39;00m \u001b[39mlen\u001b[39m(sparsity) \u001b[39m==\u001b[39m \u001b[39m2\u001b[39m:\n",
      "File \u001b[0;32m~/opt/anaconda3/lib/python3.9/site-packages/scipy/optimize/_numdiff.py:576\u001b[0m, in \u001b[0;36m_dense_difference\u001b[0;34m(fun, x0, f0, h, use_one_sided, method)\u001b[0m\n\u001b[1;32m    574\u001b[0m     x \u001b[39m=\u001b[39m x0 \u001b[39m+\u001b[39m h_vecs[i]\n\u001b[1;32m    575\u001b[0m     dx \u001b[39m=\u001b[39m x[i] \u001b[39m-\u001b[39m x0[i]  \u001b[39m# Recompute dx as exactly representable number.\u001b[39;00m\n\u001b[0;32m--> 576\u001b[0m     df \u001b[39m=\u001b[39m fun(x) \u001b[39m-\u001b[39m f0\n\u001b[1;32m    577\u001b[0m \u001b[39melif\u001b[39;00m method \u001b[39m==\u001b[39m \u001b[39m'\u001b[39m\u001b[39m3-point\u001b[39m\u001b[39m'\u001b[39m \u001b[39mand\u001b[39;00m use_one_sided[i]:\n\u001b[1;32m    578\u001b[0m     x1 \u001b[39m=\u001b[39m x0 \u001b[39m+\u001b[39m h_vecs[i]\n",
      "File \u001b[0;32m~/opt/anaconda3/lib/python3.9/site-packages/scipy/optimize/_numdiff.py:456\u001b[0m, in \u001b[0;36mapprox_derivative.<locals>.fun_wrapped\u001b[0;34m(x)\u001b[0m\n\u001b[1;32m    455\u001b[0m \u001b[39mdef\u001b[39;00m \u001b[39mfun_wrapped\u001b[39m(x):\n\u001b[0;32m--> 456\u001b[0m     f \u001b[39m=\u001b[39m np\u001b[39m.\u001b[39matleast_1d(fun(x, \u001b[39m*\u001b[39;49margs, \u001b[39m*\u001b[39;49m\u001b[39m*\u001b[39;49mkwargs))\n\u001b[1;32m    457\u001b[0m     \u001b[39mif\u001b[39;00m f\u001b[39m.\u001b[39mndim \u001b[39m>\u001b[39m \u001b[39m1\u001b[39m:\n\u001b[1;32m    458\u001b[0m         \u001b[39mraise\u001b[39;00m \u001b[39mRuntimeError\u001b[39;00m(\u001b[39m\"\u001b[39m\u001b[39m`fun` return value has \u001b[39m\u001b[39m\"\u001b[39m\n\u001b[1;32m    459\u001b[0m                            \u001b[39m\"\u001b[39m\u001b[39mmore than 1 dimension.\u001b[39m\u001b[39m\"\u001b[39m)\n",
      "File \u001b[0;32m~/opt/anaconda3/lib/python3.9/site-packages/scipy/optimize/_differentiable_functions.py:137\u001b[0m, in \u001b[0;36mScalarFunction.__init__.<locals>.fun_wrapped\u001b[0;34m(x)\u001b[0m\n\u001b[1;32m    133\u001b[0m \u001b[39mself\u001b[39m\u001b[39m.\u001b[39mnfev \u001b[39m+\u001b[39m\u001b[39m=\u001b[39m \u001b[39m1\u001b[39m\n\u001b[1;32m    134\u001b[0m \u001b[39m# Send a copy because the user may overwrite it.\u001b[39;00m\n\u001b[1;32m    135\u001b[0m \u001b[39m# Overwriting results in undefined behaviour because\u001b[39;00m\n\u001b[1;32m    136\u001b[0m \u001b[39m# fun(self.x) will change self.x, with the two no longer linked.\u001b[39;00m\n\u001b[0;32m--> 137\u001b[0m fx \u001b[39m=\u001b[39m fun(np\u001b[39m.\u001b[39;49mcopy(x), \u001b[39m*\u001b[39;49margs)\n\u001b[1;32m    138\u001b[0m \u001b[39m# Make sure the function returns a true scalar\u001b[39;00m\n\u001b[1;32m    139\u001b[0m \u001b[39mif\u001b[39;00m \u001b[39mnot\u001b[39;00m np\u001b[39m.\u001b[39misscalar(fx):\n",
      "File \u001b[0;32m~/opt/anaconda3/lib/python3.9/site-packages/statsmodels/base/model.py:534\u001b[0m, in \u001b[0;36mLikelihoodModel.fit.<locals>.f\u001b[0;34m(params, *args)\u001b[0m\n\u001b[1;32m    533\u001b[0m \u001b[39mdef\u001b[39;00m \u001b[39mf\u001b[39m(params, \u001b[39m*\u001b[39margs):\n\u001b[0;32m--> 534\u001b[0m     \u001b[39mreturn\u001b[39;00m \u001b[39m-\u001b[39m\u001b[39mself\u001b[39;49m\u001b[39m.\u001b[39;49mloglike(params, \u001b[39m*\u001b[39;49margs) \u001b[39m/\u001b[39m nobs\n",
      "File \u001b[0;32m~/opt/anaconda3/lib/python3.9/site-packages/statsmodels/tsa/statespace/mlemodel.py:939\u001b[0m, in \u001b[0;36mMLEModel.loglike\u001b[0;34m(self, params, *args, **kwargs)\u001b[0m\n\u001b[1;32m    936\u001b[0m \u001b[39mif\u001b[39;00m complex_step:\n\u001b[1;32m    937\u001b[0m     kwargs[\u001b[39m'\u001b[39m\u001b[39minversion_method\u001b[39m\u001b[39m'\u001b[39m] \u001b[39m=\u001b[39m INVERT_UNIVARIATE \u001b[39m|\u001b[39m SOLVE_LU\n\u001b[0;32m--> 939\u001b[0m loglike \u001b[39m=\u001b[39m \u001b[39mself\u001b[39;49m\u001b[39m.\u001b[39;49mssm\u001b[39m.\u001b[39;49mloglike(complex_step\u001b[39m=\u001b[39;49mcomplex_step, \u001b[39m*\u001b[39;49m\u001b[39m*\u001b[39;49mkwargs)\n\u001b[1;32m    941\u001b[0m \u001b[39m# Koopman, Shephard, and Doornik recommend maximizing the average\u001b[39;00m\n\u001b[1;32m    942\u001b[0m \u001b[39m# likelihood to avoid scale issues, but the averaging is done\u001b[39;00m\n\u001b[1;32m    943\u001b[0m \u001b[39m# automatically in the base model `fit` method\u001b[39;00m\n\u001b[1;32m    944\u001b[0m \u001b[39mreturn\u001b[39;00m loglike\n",
      "File \u001b[0;32m~/opt/anaconda3/lib/python3.9/site-packages/statsmodels/tsa/statespace/kalman_filter.py:1001\u001b[0m, in \u001b[0;36mKalmanFilter.loglike\u001b[0;34m(self, **kwargs)\u001b[0m\n\u001b[1;32m    985\u001b[0m \u001b[39m\u001b[39m\u001b[39mr\u001b[39m\u001b[39m\"\"\"\u001b[39;00m\n\u001b[1;32m    986\u001b[0m \u001b[39mCalculate the loglikelihood associated with the statespace model.\u001b[39;00m\n\u001b[1;32m    987\u001b[0m \n\u001b[0;32m   (...)\u001b[0m\n\u001b[1;32m    997\u001b[0m \u001b[39m    The joint loglikelihood.\u001b[39;00m\n\u001b[1;32m    998\u001b[0m \u001b[39m\"\"\"\u001b[39;00m\n\u001b[1;32m    999\u001b[0m kwargs\u001b[39m.\u001b[39msetdefault(\u001b[39m'\u001b[39m\u001b[39mconserve_memory\u001b[39m\u001b[39m'\u001b[39m,\n\u001b[1;32m   1000\u001b[0m                   MEMORY_CONSERVE \u001b[39m^\u001b[39m MEMORY_NO_LIKELIHOOD)\n\u001b[0;32m-> 1001\u001b[0m kfilter \u001b[39m=\u001b[39m \u001b[39mself\u001b[39;49m\u001b[39m.\u001b[39;49m_filter(\u001b[39m*\u001b[39;49m\u001b[39m*\u001b[39;49mkwargs)\n\u001b[1;32m   1002\u001b[0m loglikelihood_burn \u001b[39m=\u001b[39m kwargs\u001b[39m.\u001b[39mget(\u001b[39m'\u001b[39m\u001b[39mloglikelihood_burn\u001b[39m\u001b[39m'\u001b[39m,\n\u001b[1;32m   1003\u001b[0m                                 \u001b[39mself\u001b[39m\u001b[39m.\u001b[39mloglikelihood_burn)\n\u001b[1;32m   1004\u001b[0m \u001b[39mif\u001b[39;00m \u001b[39mnot\u001b[39;00m (kwargs[\u001b[39m'\u001b[39m\u001b[39mconserve_memory\u001b[39m\u001b[39m'\u001b[39m] \u001b[39m&\u001b[39m MEMORY_NO_LIKELIHOOD):\n",
      "File \u001b[0;32m~/opt/anaconda3/lib/python3.9/site-packages/statsmodels/tsa/statespace/kalman_filter.py:924\u001b[0m, in \u001b[0;36mKalmanFilter._filter\u001b[0;34m(self, filter_method, inversion_method, stability_method, conserve_memory, filter_timing, tolerance, loglikelihood_burn, complex_step)\u001b[0m\n\u001b[1;32m    921\u001b[0m \u001b[39mself\u001b[39m\u001b[39m.\u001b[39m_initialize_state(prefix\u001b[39m=\u001b[39mprefix, complex_step\u001b[39m=\u001b[39mcomplex_step)\n\u001b[1;32m    923\u001b[0m \u001b[39m# Run the filter\u001b[39;00m\n\u001b[0;32m--> 924\u001b[0m kfilter()\n\u001b[1;32m    926\u001b[0m \u001b[39mreturn\u001b[39;00m kfilter\n",
      "\u001b[0;31mKeyboardInterrupt\u001b[0m: "
     ]
    }
   ],
   "source": [
    "# # Find the best hyperparameters for ARIMA model\n",
    "for store in stationary_stores:\n",
    "    print(f\"Store: {store}\")\n",
    "                      \n",
    "    data_store = data[data['store_hashed'] == store]\n",
    "    \n",
    "    best_params = arima_hyperparameters(data_store['n_transactions'], diff=0)\n",
    "    print(best_params)\n",
    "    store_params = pd.concat([store_params, pd.DataFrame({'store': [store], 'pdq': [best_params]})], ignore_index=True)\n",
    "    \n",
    "    # save the dataframe as csv file\n",
    "    # store_params.to_csv('data/stores_arima_params.csv', index=False)\n"
   ]
  },
  {
   "cell_type": "code",
   "execution_count": null,
   "metadata": {},
   "outputs": [],
   "source": [
    "for store in stationary_stores_1:\n",
    "    print(f\"Store: {store}\")\n",
    "\n",
    "    data_store = data[data['store_hashed'] == store]\n",
    "\n",
    "    best_params = arima_hyperparameters(data_store['n_transactions'], diff=1)\n",
    "    print(best_params)\n",
    "    store_params = pd.concat([store_params, pd.DataFrame({'store': [store], 'pdq': [best_params]})], ignore_index=True)\n",
    "\n",
    "    # save the dataframe as csv file\n",
    "\n",
    "store_params.to_csv('data/stores_arima_params.csv', index=False)\n",
    "    "
   ]
  },
  {
   "cell_type": "code",
   "execution_count": null,
   "metadata": {},
   "outputs": [],
   "source": []
  }
 ],
 "metadata": {
  "kernelspec": {
   "display_name": "base",
   "language": "python",
   "name": "python3"
  },
  "language_info": {
   "codemirror_mode": {
    "name": "ipython",
    "version": 3
   },
   "file_extension": ".py",
   "mimetype": "text/x-python",
   "name": "python",
   "nbconvert_exporter": "python",
   "pygments_lexer": "ipython3",
   "version": "3.9.18"
  }
 },
 "nbformat": 4,
 "nbformat_minor": 2
}
