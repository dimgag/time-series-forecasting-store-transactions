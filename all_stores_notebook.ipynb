{
 "cells": [
  {
   "cell_type": "code",
   "execution_count": 1,
   "metadata": {},
   "outputs": [],
   "source": [
    "import numpy as np\n",
    "import pandas as pd\n",
    "import matplotlib.pyplot as plt\n",
    "import seaborn as sns\n",
    "\n",
    "# My modules\n",
    "from utils import *\n",
    "from arima_forecaster import ArimaForecaster\n",
    "# Notebook Settings\n",
    "sns.set_style('whitegrid')\n",
    "pd.set_option('display.max_rows', None)"
   ]
  },
  {
   "cell_type": "code",
   "execution_count": 2,
   "metadata": {},
   "outputs": [],
   "source": [
    "data = pd.read_parquet('data/n_forecast_preprocessed.parquet', engine='pyarrow', dtype_backend='numpy_nullable')"
   ]
  },
  {
   "cell_type": "code",
   "execution_count": 3,
   "metadata": {},
   "outputs": [],
   "source": [
    "data.set_index('sales_date', inplace=True)\n",
    "data.sort_index(inplace=True)\n",
    "# convert to float the n_transactions column\n",
    "data['n_transactions'] = data['n_transactions'].astype(float)"
   ]
  },
  {
   "cell_type": "code",
   "execution_count": 4,
   "metadata": {},
   "outputs": [
    {
     "data": {
      "text/plain": [
       "595"
      ]
     },
     "execution_count": 4,
     "metadata": {},
     "output_type": "execute_result"
    }
   ],
   "source": [
    "data['store_hashed'].nunique()"
   ]
  },
  {
   "cell_type": "markdown",
   "metadata": {},
   "source": [
    "# Forecasting for all stores\n",
    "\n",
    "1. First of all we need to make all stores data stationary to be able to use ARIMA model. We will use differencing to make data stationary.\n",
    "2. Then we will use auto_arima function to find the best parameters for ARIMA model.\n",
    "3. Finally we will use ARIMA model to forecast number of transactions for each store.\n",
    "\n"
   ]
  },
  {
   "cell_type": "markdown",
   "metadata": {},
   "source": [
    "# Check stationarity for each store"
   ]
  },
  {
   "cell_type": "code",
   "execution_count": 6,
   "metadata": {},
   "outputs": [
    {
     "name": "stdout",
     "output_type": "stream",
     "text": [
      "Stationary stores: 407\n",
      "Non stationary stores: 188\n"
     ]
    }
   ],
   "source": [
    "stationary_stores, non_stationary_stores = test_stores_stationarity(data, plot=False, results=False)"
   ]
  },
  {
   "cell_type": "code",
   "execution_count": 7,
   "metadata": {},
   "outputs": [
    {
     "name": "stdout",
     "output_type": "stream",
     "text": [
      "Stationary stores: 188\n",
      "Non stationary stores: 0\n"
     ]
    }
   ],
   "source": [
    "# stationary_stores will have d=0 for arima model\n",
    "# stationary_stores_1 will have d=1 for arima model\n",
    "# stationary_store_2 will have d=2 for arima model\n",
    "stationary_stores_1, non_stationary_stores_1 = differencing(data, non_stationary_stores)"
   ]
  },
  {
   "cell_type": "code",
   "execution_count": 11,
   "metadata": {},
   "outputs": [
    {
     "name": "stdout",
     "output_type": "stream",
     "text": [
      "Stationary stores: 595\n",
      "Non stationary stores: 0\n"
     ]
    }
   ],
   "source": [
    "# Check all stores stationarity after differencing\n",
    "data = data.dropna()\n",
    "\n",
    "stationary_stores_2, non_stationary_stores_2 = test_stores_stationarity(data, plot=False, results=False)"
   ]
  },
  {
   "cell_type": "markdown",
   "metadata": {},
   "source": [
    "# Hyperparameters tuning for each store"
   ]
  },
  {
   "cell_type": "code",
   "execution_count": 12,
   "metadata": {},
   "outputs": [],
   "source": [
    "# Load again the dataset\n",
    "data = pd.read_parquet('data/n_forecast_preprocessed.parquet', engine='pyarrow', dtype_backend='numpy_nullable')\n",
    "data.set_index('sales_date', inplace=True)\n",
    "data.sort_index(inplace=True)\n",
    "# convert to float the n_transactions column\n",
    "data['n_transactions'] = data['n_transactions'].astype(float)"
   ]
  },
  {
   "cell_type": "code",
   "execution_count": 13,
   "metadata": {},
   "outputs": [],
   "source": [
    "# stationary_stores   (d=0)\n",
    "# stationary_stores_1 (d=1)"
   ]
  },
  {
   "cell_type": "code",
   "execution_count": 37,
   "metadata": {},
   "outputs": [],
   "source": []
  },
  {
   "cell_type": "code",
   "execution_count": 62,
   "metadata": {},
   "outputs": [],
   "source": [
    "# Find best parameters for ARIMA model\n",
    "from statsmodels.tsa.arima.model import ARIMA\n",
    "def arima_hyperparameters_1(data, diff=0):\n",
    "    best_aic = np.inf\n",
    "    best_pdq = None\n",
    "\n",
    "    p = q = range(0, 10)\n",
    "    d = [diff]\n",
    "\n",
    "    pdq = list(itertools.product(p, d, q))\n",
    "\n",
    "\n",
    "    for param in pdq:\n",
    "        try:\n",
    "            model_arima = ARIMA(data, order=param)\n",
    "            model_arima_fit = model_arima.fit()\n",
    "            if model_arima_fit.aic < best_aic:\n",
    "                best_aic = model_arima_fit.aic\n",
    "                best_pdq = param\n",
    "\n",
    "        except Exception as e:\n",
    "            print(f\"Error: {e} with parameters {param}\")\n",
    "            continue\n",
    "        \n",
    "    print(f'Best ARIMA parameters: {best_pdq} with AIC: {best_aic}')\n",
    "    return best_pdq\n"
   ]
  },
  {
   "cell_type": "code",
   "execution_count": 64,
   "metadata": {},
   "outputs": [
    {
     "name": "stdout",
     "output_type": "stream",
     "text": [
      "Store: a58149d355f02887dfbe55ebb2b64ba3\n",
      "Best ARIMA parameters: (8, 0, 7) with AIC: 19118.62876072526\n",
      "None\n",
      "Store: bb57db42f77807a9c5823bd8c2d9aaef\n",
      "Best ARIMA parameters: (9, 0, 8) with AIC: 21033.091028127637\n",
      "None\n",
      "Store: 28e209b61a52482a0ae1cb9f5959c792\n",
      "Best ARIMA parameters: (9, 0, 9) with AIC: 23357.84907125705\n",
      "None\n",
      "Store: 1cecc7a77928ca8133fa24680a88d2f9\n",
      "Best ARIMA parameters: (9, 0, 9) with AIC: 21293.733368880024\n",
      "None\n",
      "Store: a19883fca95d0e5ec7ee6c94c6c32028\n",
      "Best ARIMA parameters: (9, 0, 9) with AIC: 20301.91453524185\n",
      "None\n",
      "Store: 23ef5cf238a3b88085d95adf94c24a25\n",
      "Best ARIMA parameters: (8, 0, 9) with AIC: 19099.110533237726\n",
      "None\n",
      "Store: 5e5dd00d770ef3e9154a4257edcb80b8\n"
     ]
    }
   ],
   "source": [
    "# # Find the best hyperparameters for ARIMA model\n",
    "for store in stationary_stores:\n",
    "    print(f\"Store: {store}\")\n",
    "                      \n",
    "    data_store = data[data['store_hashed'] == store]\n",
    "    \n",
    "    best_params = arima_hyperparameters_1(data_store['n_transactions'])\n",
    "    print(best_params)\n",
    "\n",
    "# something is wrong with the function, it returns None for all stores\n",
    "\n",
    "# Make a dataframe to store the best parameters for each store\n",
    "# best_params = pd.DataFrame(columns=['store_hashed', 'p', 'd', 'q'])"
   ]
  },
  {
   "cell_type": "code",
   "execution_count": null,
   "metadata": {},
   "outputs": [],
   "source": []
  }
 ],
 "metadata": {
  "kernelspec": {
   "display_name": "base",
   "language": "python",
   "name": "python3"
  },
  "language_info": {
   "codemirror_mode": {
    "name": "ipython",
    "version": 3
   },
   "file_extension": ".py",
   "mimetype": "text/x-python",
   "name": "python",
   "nbconvert_exporter": "python",
   "pygments_lexer": "ipython3",
   "version": "3.9.18"
  }
 },
 "nbformat": 4,
 "nbformat_minor": 2
}
